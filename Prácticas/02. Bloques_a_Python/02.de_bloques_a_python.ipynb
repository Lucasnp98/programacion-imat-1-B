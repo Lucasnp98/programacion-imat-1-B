{
 "cells": [
  {
   "cell_type": "markdown",
   "metadata": {},
   "source": [
    "# Tema 03. De la programación de bloques a Python\n",
    "## Solución de las prácticas"
   ]
  },
  {
   "cell_type": "markdown",
   "metadata": {},
   "source": [
    "**Programación**: automatización de tareas cuya salida depende de la entrada del programa.\n",
    "\n",
    "Se pueden realiza programas por varias motivaciones recogidas en las siguientes prácticas."
   ]
  },
  {
   "cell_type": "markdown",
   "metadata": {},
   "source": [
    "### Programa #1: Programación imperativa básica\n",
    "**Secuencializar o agrupar tareas manuales para que sean ejecutadas en un orden concreto**\n",
    "- Al hacer clic en la bandera verde...\n",
    "- El gato debe decir \"Hola\" durante 1 segundo.\n",
    "- A continuación se va hacer grande fijando su tamaño a 200%.\n",
    "- Esperaremos 1 segundo.\n",
    "- Ocultaremos el gato.\n",
    "- Esperaremos 1 segundo.\n",
    "- Mostraremos el gato.\n",
    "- Lo dejaremos en su tamaño original, 100%.\n",
    "- Dirá (de forma pensativa) \"Uy, ¿qué ha pasado?\" durante 1 segundo."
   ]
  },
  {
   "cell_type": "markdown",
   "metadata": {},
   "source": [
    "### Programa #2: Condicionales\n",
    "**Generar distintas salidas en función de la información de entrada**\n",
    "- Al hacer clic en la bandera verde...\n",
    "- El gato debe decir \"¡Hola, soy el gato IA!\" durante 1 segundo.\n",
    "- Preguntará \"Dime una palabra en español y la traduciré al inglés\"\n",
    "- Se evaluará la palabrá introducida (almacenada en la variable respuesta). Si su contenido es igual a Hola:\n",
    "   + El gato debe decir \"Hola se dice en inglés: hello\" durante 2 segundo.\n",
    "- Si no...\n",
    "   + El gato debe decir \"¡Vaya! Ahí me has pillado\" durante 2 segundo."
   ]
  },
  {
   "cell_type": "markdown",
   "metadata": {},
   "source": [
    "### Programa #3: Condicionales anidados\n",
    "**Generar distintas salidas en función de la información de entrada - Avanzado**\n",
    "\n",
    "Se creará un sistema inteligente basado en reglas:\n",
    "- Al hacer clic en la bandera verde...\n",
    "- Preguntará \"¿Qué temperatura hace hoy?\"\n",
    "- Si la temperatura es inferior a 0 grados el gato dirá: \"Hace mucho, pero que mucho frío\" durante 2 segundos.\n",
    "- Si la temperatura está entre [0, 9] el gato dirá: \"Hace frio, pero se puede soportar\" durante 2 segundos.\n",
    "- Si la temperatura está entre [10, 19] el gato dirá: \"La temperatura es agradable\" durante 2 segundos.\n",
    "- Si la temperatura está entre [20, 29] el gato dirá: \"Empieza el calorcito\" durante 2 segundos.\n",
    "- Si la temperatura es superior a 30 grados el gato dirá: \"Hace mucho, pero mucho calor\" durante 2 segundos."
   ]
  },
  {
   "cell_type": "markdown",
   "metadata": {},
   "source": [
    "### Programa #4: Bucles\n",
    "**Automatizar y optimizar la repetición de una serie de tareas**\n",
    "\n",
    "Se creará un programa, similar al desarrollado en Scratch, en el cuál se diga en primer lugar \"¡Hola!\", a continuación se mostrará un \"\\*\" por cada paso hasta dar 8 y se mostrárá el texto \"¡Llegué!\". Se mostrará el texto \"Volviendo\" y de vuelta se mostrará un \"-\" por cada paso de vuelta. Al finalizar se mostrará el texto \"¡Volví!\".\n",
    "\n",
    "Algo como lo siguiente:\n",
    "```\n",
    "¡Hola!********¡Llegué! Volviendo --------¡Volví!\n",
    "```"
   ]
  }
 ],
 "metadata": {
  "kernelspec": {
   "display_name": "Python 3 (ipykernel)",
   "language": "python",
   "name": "python3"
  },
  "language_info": {
   "codemirror_mode": {
    "name": "ipython",
    "version": 3
   },
   "file_extension": ".py",
   "mimetype": "text/x-python",
   "name": "python",
   "nbconvert_exporter": "python",
   "pygments_lexer": "ipython3",
   "version": "3.9.12"
  },
  "vscode": {
   "interpreter": {
    "hash": "03f549537fa19b43efbf5aa4d6467b94388b966112c368cc66a2484d89a4a6bd"
   }
  }
 },
 "nbformat": 4,
 "nbformat_minor": 4
}
