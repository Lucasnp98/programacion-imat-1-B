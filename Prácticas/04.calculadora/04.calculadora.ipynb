{
 "cells": [
  {
   "cell_type": "markdown",
   "metadata": {},
   "source": [
    "# 4. Calculadora (Tema 4)\n",
    "## Enunciado de la práctica"
   ]
  },
  {
   "cell_type": "markdown",
   "metadata": {},
   "source": [
    "### Objetivos\n",
    "- Dominar los tipos de datos.\n",
    "- Dominar los operadores artiméticos.\n",
    "- Conocer las funciones básicas del leguaje.\n",
    "\n",
    "### Restricciones\n",
    "- Se escribirá todo el programa en una celda.\n",
    "- Solo se podrán utilizar las librerías, funciones y estructuras vistas en clase.\n",
    "\n",
    "### Funcionalidad del programa\n",
    "\n",
    "Se implementará una calculadora permita realizar operaciones artiméticas y funciones básicas con los tipos de datos vistos en clase. Para ello, se mostrará en primer lugar un menú que pida al usuario la operación a realizar, la cual introducirá por teclado. El menú debe parecerse lo máximo posible al siguiente.\n",
    "\n",
    "```python\n",
    "******** Calculadora iMAT ********\n",
    "1. Sumar\n",
    "2. Restar\n",
    "3. Multiplicar\n",
    "4. Dividir\n",
    " \n",
    "5. Valor absoluto\n",
    "6. Redondeo de un número al alza\n",
    "7. Valor ASCII de un caracter\n",
    "8. Caracter de un código ASCII\n",
    "\n",
    "9. Salir\n",
    "**********************************\n",
    "Operación: _\n",
    "```\n",
    "\n",
    "Las operaciones comprendidas entre la opción 1 y 4 son operadores artiméticos. Las opciones del 5 al 8 utilizan las funciones vistas en el apartado **4.7 Built-in functions** de los apuntes.\n",
    "\n",
    "Una vez introducido el número de operación, se pedirá al usuario el tipo de dato con el cual realizará la operación. El tipo afectará a los dos operandos, es decir, si se introduce la opción de sumar con int, el primer y segundo operando serán int.\n",
    "\n",
    "El tipo de dato a introducir será uno de las siguientes opciones: int, float o complex.\n",
    "\n",
    "```python\n",
    "Tipo de dato: _\n",
    "```\n",
    "\n",
    "A continuación, se pedirán los dos números sobre los cuales se operará (los dos del mismo tipo).\n",
    "\n",
    "```python\n",
    "Número 1: _\n",
    "Número 2: _\n",
    "```\n",
    "\n",
    "Por último, se mostrará el resultado por pantalla de la siguiente forma, suponiendo que se pulsó la opción \"1\", se introdujo como tipo \"int\" y se introdujeron los números \"12\" y \"24\".\n",
    "\n",
    "Se mostrará la operación seleccionada, los números y el resultado:\n",
    "\n",
    "```python\n",
    "12 + 24 = 36\n",
    "```\n",
    "\n",
    "Una vez que se muestre la salida de la operación deseada, se volverá a mostrar el menú principal para volver a introducir otra operación.\n",
    "\n",
    "### Implementación del programa\n",
    "\n",
    "**Iteración I**\n",
    "\n",
    "Se desarrollará el programa descrito asumiendo que la entrada es correcta en todos sus puntos:\n",
    "- Las opciones están entre el 1 y el 9.\n",
    "- Los tipos de datos son los existentes.\n",
    "- Los números son correctos y del tipo de dato anticipado.\n",
    "\n",
    "Se recomienda enfocar esta iteración mediante micro-objetivos. No se desarrollará el siguiente hasta tener cerrado el anterior:\n",
    "1. Creación del menú.\n",
    "2. Lógica de identificación de la operación.\n",
    "3. Lógica de identificación del tipo.\n",
    "4. Lógica de la operación aritmética. \n",
    "\n",
    "**Iteración II**\n",
    "\n",
    "El programa deberá validar la entrada de datos del menú principal y de los tipos de datos. Si se introduce una opción que no está en el menú o es un tipo desconocido, se volverá a preguntar al usuario por ella.\n",
    "\n",
    "Casos en los que se volverá a pedir la información:\n",
    "- Opción de menú incorrecta: si se introduce la opción de menú 15, se volverá a preguntar por ella. \n",
    "- Tipo de dato incorrecto: si se introduce bol en lugar de bool, por ejemplo, se volverá a pedir el tipo de dato.\n",
    "\n",
    "**Iteración III**\n",
    "\n",
    "El programa validará que los números introducidos se corresponden con el tipo seleccionado. Se asumirá que el usuario siempre introducirá un número válido. Por ejemplo, el usuario nunca introducirá valores del tipo 12a, 45.6.2 ó 3+8jk, pero sí puede confundirse a la hora de introducir el tipo. Por ejemplo, puede elegir un tipo de dato (int) para trabajar con números enteros e introducir un número float (23.5). En este caso, se le volverá a pedir el número al usuario. \n",
    "\n",
    "Para realizar estas validaciones deberéis repasar el aparatado **4.6.2 Operaciones básicas con strings**.\n"
   ]
  }
 ],
 "metadata": {
  "kernelspec": {
   "display_name": "Python 3 (ipykernel)",
   "language": "python",
   "name": "python3"
  },
  "language_info": {
   "codemirror_mode": {
    "name": "ipython",
    "version": 3
   },
   "file_extension": ".py",
   "mimetype": "text/x-python",
   "name": "python",
   "nbconvert_exporter": "python",
   "pygments_lexer": "ipython3",
   "version": "3.9.12"
  },
  "vscode": {
   "interpreter": {
    "hash": "03f549537fa19b43efbf5aa4d6467b94388b966112c368cc66a2484d89a4a6bd"
   }
  }
 },
 "nbformat": 4,
 "nbformat_minor": 4
}
