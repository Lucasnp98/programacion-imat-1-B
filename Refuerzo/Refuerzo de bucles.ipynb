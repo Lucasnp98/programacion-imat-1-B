{
 "cells": [
  {
   "cell_type": "markdown",
   "metadata": {},
   "source": [
    "# Ejercicios de refuerzo: bucles y condicionales"
   ]
  },
  {
   "cell_type": "markdown",
   "metadata": {},
   "source": [
    "###  Ejercicio #1. Secuencia\n",
    "\n",
    "- Mostrar los números de 10 al 20 incluidos\n",
    "\n",
    "- Mostrar los números del 0 al 100 con saltos de 10 en 10: 0, 10, 20, ...., 100"
   ]
  },
  {
   "cell_type": "markdown",
   "metadata": {},
   "source": [
    "### Ejercicio #2\n",
    "\n",
    "- Mostrar los múltiplos de 2 y 3 entre los números 10 y 20\n"
   ]
  },
  {
   "cell_type": "markdown",
   "metadata": {},
   "source": [
    "### Ejercicio #3\n",
    "Mostrar los 10 primeros números primos.\n",
    "El primer número primo es 2, y los 10 primeros números primos son: 2, 3, 5, 7, 11, 13, 17, 19, 23, 29.\n",
    "\n",
    "Piensa en atacar el problema por partes.\n",
    "\n",
    "**Pista #1: Primero pienso en la lógica del programa...**\n",
    "\n",
    "\n",
    "Un número primo N es aquel número natural mayor que 1 que tiene únicamente dos divisores positivos distintos: él mismo y la unidad. Así, debo ser capaz de dividir un número mayor que 1, entre otros números que vayan desde [2, N-1]. Si no es múltiplo de ninguno de ellos, será primo.\n",
    "Lo programo de forma separada.\n",
    "Podemos decir que 10 no es primo. Sin embargo 7, como no muestra nada, será primo.\n",
    "\n",
    "Ya tenemos la lógica del programa. Añadimos una variabe booleana para que nos avise de este hecho a final del bucle.\n",
    "\n",
    "**Pista #2: Como piden los 10 primeros números, hago un primer bucle que muestre del 1 al 10.**\n",
    "\n",
    "\n",
    "Ahora mezclo los dos códigos, la lógica del programa con la iteración de los n primeros números primos."
   ]
  },
  {
   "cell_type": "markdown",
   "metadata": {},
   "source": [
    "### Ejercicio #4. Cálculo de un año bisiesto."
   ]
  },
  {
   "cell_type": "markdown",
   "metadata": {},
   "source": [
    "###  Ejercicio #5. Tabla de multiplicar\n",
    "\n",
    "\n",
    "Mostrar la Tabla de multiplicar del 1 al 9, quedando algo similar a lo siguiente:\n",
    "\n",
    "Tabla del 1 : 1 , 2 , 3 , 4 , 5 , 6 , 7 , 8 , 9 , \n",
    "\n",
    "Tabla del 2 : 2 , 4 , 6 , 8 , 10 , 12 , 14 , 16 , 18 , \n",
    "\n",
    "Tabla del 3 : 3 , 6 , 9 , 12 , 15 , 18 , 21 , 24 , 27 , \n",
    "\n",
    "Tabla del 4 : 4 , 8 , 12 , 16 , 20 , 24 , 28 , 32 , 36 , \n",
    "\n",
    "Tabla del 5 : 5 , 10 , 15 , 20 , 25 , 30 , 35 , 40 , 45 ,\n",
    "\n",
    "Tabla del 6 : 6 , 12 , 18 , 24 , 30 , 36 , 42 , 48 , 54 , \n",
    "\n",
    "Tabla del 7 : 7 , 14 , 21 , 28 , 35 , 42 , 49 , 56 , 63 , \n",
    "\n",
    "Tabla del 8 : 8 , 16 , 24 , 32 , 40 , 48 , 56 , 64 , 72 ,\n",
    "\n",
    "Tabla del 9 : 9 , 18 , 27 , 36 , 45 , 54 , 63 , 72 , 81 ,\n",
    "\n",
    "\n",
    "\n"
   ]
  },
  {
   "cell_type": "markdown",
   "metadata": {},
   "source": [
    "Si quieres mostrar dos instrucciones print en una línea escribe lo siguiente:"
   ]
  },
  {
   "cell_type": "code",
   "execution_count": 5,
   "metadata": {},
   "outputs": [
    {
     "name": "stdout",
     "output_type": "stream",
     "text": [
      "HolaAdiós\n"
     ]
    }
   ],
   "source": [
    "print(\"Hola\", end = \"\")\n",
    "print(\"Adiós\")"
   ]
  },
  {
   "cell_type": "code",
   "execution_count": null,
   "metadata": {},
   "outputs": [],
   "source": []
  }
 ],
 "metadata": {
  "kernelspec": {
   "display_name": "Python 3",
   "language": "python",
   "name": "python3"
  },
  "language_info": {
   "codemirror_mode": {
    "name": "ipython",
    "version": 3
   },
   "file_extension": ".py",
   "mimetype": "text/x-python",
   "name": "python",
   "nbconvert_exporter": "python",
   "pygments_lexer": "ipython3",
   "version": "3.8.5"
  }
 },
 "nbformat": 4,
 "nbformat_minor": 4
}
