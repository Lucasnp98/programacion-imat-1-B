{
 "cells": [
  {
   "cell_type": "markdown",
   "id": "96b6cb4d",
   "metadata": {},
   "source": [
    "# Tema 1. Introducción a los lenguajes de programación\n",
    "## 1.1 Introducción a la informática 🏫\n",
    "\n",
    "La informática o computer science es la ciencia que se ocupa del tratamiento automático de la información mediante la utilización de equipos electrónicos llamados ordenadores o computers.\n",
    "\n",
    "### 1.1.1 ¿Qué es un ordenador?\n",
    "\n",
    "Un ordenador o computador es una máquina electrónica digital que ejecuta una serie de órdenes para procesar los datos de entrada obteniendo una salida.\n",
    "```\n",
    "INPUT: 2 + 2\n",
    "PROCESAMIENTO\n",
    "OUTPUT: 4\n",
    "```\n",
    "\n",
    "El objetivo de esta asignatura es entender el funcionamiento de un ordenador y dominar la forma de indicarle las tareas a realizar (procesamiento). El proceso de escribir órdenes para la realización de estas tareas se le denomina **programación** (programming).  \n",
    "\n",
    "Como en cualquier proceso de comunicación, para programar un ordenador necesitamos utilizar un **lenguaje de programación** (language programming) para que nos entienda. \n",
    "\n",
    "El lugar donde se indican o escriben las tareas a realizar por el ordenador se denomina programa o **código fuente** (source code). En ocasiones, se utilizan las palabras programming y coding de forma indistinta para hacer referencia al proceso de escritura de las tareas que va a realizar un ordenador, aunque existen algunas diferencias significativas.\n",
    "\n",
    "Un ordenador, además de realizar las tareas que le trasladamos, permite automatizar (ejecutar tareas de forma secuencial previamente planificadas) u optimizar de tareas (es capaz de determinar las tareas arealizar para obtener la mejor solucuón posible). \n",
    "\n",
    "Películas: Matrix; Código Fuente (Source Code)\n",
    "\n",
    "## 1.2 Introducción a los computadores 🏫\n",
    "### 1.2.1 Evolución de la informática\n",
    "\n",
    "Alan Turing (1912-1954) era un matemático británico y es considerado uno de los padres de la informática moderna y de la Inteligencia Artificial. \n",
    "\n",
    "En la segunda guerra mundial trabajó en descifrar los códigos nazis gracias a la máquina Enigma. Se ha estimado que su trabajo acortó la duración de esa guerra entre dos y cuatro años. \n",
    "\n",
    "En el 1950 definió el **Test de Turing**: prueba que permite evaluar el nivel de inteligencia de una máquina en base a sus respuestas comprobando si estas son indistinguibles de las de un ser humano.\n",
    "\n",
    "Fuente: https://es.wikipedia.org/wiki/Alan_Turing\n",
    "\n",
    "Película: El código enigma / The Imitation Game\n",
    "\n",
    "#### Primeros ordenadores\n",
    "\n",
    "**ENIAC** (Electronic Numerical Integrator And Computer) es considerado como una de las primeras computadoras electromecánicas de propósito general (1945), es decir, en función de los programas introducidos, realizará unas tareas u otras. Los programas se introducían mediante la utilización de **tarjetas perforadas**. Basado en válulas termoiónicas o de vacío, ocupaba 167 metros cuadrados, pesaba 27 toneladas y realizaba 5.000 sumas/seg. Fuente: https://es.wikipedia.org/wiki/ENIAC\n",
    "\n",
    "Los ordenadores de segunda generación se basaban en transistores (1960). Los **mainframes** son los ordenadores de referencia.\n",
    "\n",
    "Mediante la combinación de transistores se crean circuitos integrados(comúnmente llamados microchips) en la tercera generación de ordenadores (1964). Están construidos mediante materiales semiconductores (conducen la electricidad o no dependiendo de diversos factores) como el Silicio. \n",
    "\n",
    "La cuarta generación de ordenadores (1971) establece el concepto de microprocesador que conocemos hoy en día con los conceptos de ALU (Unidad Artimético Lógica capaz de realizar operaciones básicas) y Banco de memoria (alamcenamiento de resultados). \n",
    "\n",
    "En 1971 se promulga la Ley de Moore: cada dos años (inicialmente se dijo cada año) se duplicará el número de transitores en un chip y su coste bajaría drásticamente. Hoy en día se sigue cumpliendo. Fuente: https://en.wikipedia.org/wiki/Moore%27s_law\n",
    "\n",
    "La quinta generación (1981) se corresponden a los ordenadores personales, como los que tenemos en casa. Aparece Internet y las primeras redes neuronales.\n",
    "\n",
    "En la sexta generación (1995) aparecen los dispositivos móviles, superordenadores, robots, vehículos autónonomos, ... La IA como la conocemos en la actualidad. \n",
    "DeepBlue de IBM vence al campeón de Ajedrez en 1997 y AlphaGo al mejor jugador mundial de Go en 2016.\n",
    "\n",
    "En 2021 IBM crea el primer ordenador cuántico con 127 Qubits cuyo rendimiento es imposible de alcanzar por un ordenador convencional.\n",
    "\n",
    "### 1.2.2 Partes de un ordenador\n",
    "\n",
    "Un ordenador se compone de unos elementos electrónicos físicos, denominados **hardware**, y de programas (elementos lógicos) que permiten interactuar con él y escribir nuestras tareas o programas, denominados **software**.\n",
    "\n",
    "Todo aquello que podemos tocar en un ordenador es **hardware**, el resto, **software**. :)\n",
    "\n",
    "#### Hardware\n",
    "\n",
    "Los ordenadores modernos están construidos mediante **transistores** que se agrupan entre sí para crear circuitos integrados y procesadores que ejecutan operaciones sobre información representada en formato binario, mediante 1s y 0s.\n",
    "\n",
    "La combinación de transistores dan lugar a puertas lógicas (AND, OR, NOT, etc.) que forman un bloque básico para la construcción de un circuito digital.\n",
    "\n",
    "La arquitectura básica de un ordenador (según el modelo von Neumann) es la siguente:\n",
    "- Unidad de procesamiento central (CPU). \n",
    "- Memoria principal (RAM).\n",
    "- Módulos de E/S (Tarjeta gráfica, discos duros, etc.).\n",
    "- Bus de comunicaciones. \n",
    "\n",
    "Los ordenadores, por ejemplo los basados en el procesadores Intel, utilizan internamente un lenguaje máquina de bajo nivel denominado lenguaje ensamblador x86. El siguiente programa o código fuente es un ejemplo de una súma de dos números:\n",
    "\n",
    "```\n",
    "data segment\n",
    "a db 09h\n",
    "b db 02h\n",
    "c dw ?\n",
    "data ends\n",
    " \n",
    "code segment\n",
    "assume cs:code,ds:data\n",
    "start:\n",
    "mov ax,data\n",
    "mov ds,ax\n",
    "mov al,a\n",
    "mov bl,b\n",
    "add al,bl\n",
    "mov c,ax\n",
    "int 3\n",
    "code ends\n",
    "end start\n",
    "```\n",
    "\n",
    "Como te puedes imaginar, si la programación fuera así de compleja, no existiría la Inteligencia Artificial, y ni vosotros ni yo estaríamos hablando de esto.\n",
    "\n",
    "#### Software\n",
    "\n",
    "Por lo comentado anteriormente, el elemento software más importante en un ordenador es el **Sistema Operativo**. Es el conjunto de programas que gestiona los recursos hardware de un ordenador y proporciona servicios al resto de aplicaciones (Word, Bloc de notas, etc.). Un sistema operativo permite extraer toda la potencia del hardware (CPU, RAM, GPU, HD, ...) y abstraer al usuario o programador de la complejidad del lenguaje máquina.\n",
    "\n",
    "Tipos de sistemas operativos:\n",
    "- Windows\n",
    "- Mac OS\n",
    "- Ubuntu\n",
    "\n",
    "Una de las aplicaciones más importantes para nosotros es la que convierte una forma amigable de escribir programas en lenguajes de alto nivel al lenguaje de bajo nivel. A esta aplicación se le conoce como **compilador**. Si yo deseo escribir un programa utilizando un lenguaje de alto nivel, como por ejemplo Python, necesitaré el compilador de Python para que convierta el código legible, fácil y amigable Python en lenguaje máquina, de bajo nivel.\n",
    "\n",
    "De este modo, si ahora queremos escribir un programa que sume dos números en Python, bastaría con:\n",
    "\n",
    "```\n",
    "a = 3\n",
    "b = 5\n",
    "c = a + b\n",
    "```\n",
    "\n"
   ]
  },
  {
   "cell_type": "markdown",
   "id": "653b6014",
   "metadata": {},
   "source": [
    "### 1.2.3 Unidad de información: la palabra🏫\n",
    "\n",
    "Como se ha comentado anteriormente, los transistores digitales, mediante el paso o no de corriente, permiten representar 1s ó 0s. A partir de la representación de estos dos estados, podremos definir cualquier elemento que permita interactuar con el ordenador, como instrucciones o datos, por ejemplo.\n",
    "\n",
    "Cada arquitectura de ordenador (dado por el diseño del procesador) define un número de bits para representar información, direccionar la información almacenada, definir instrucciones, etc. Este número de bits tan importante se denomina **WORD**.\n",
    "\n",
    "En la actualidad, el tamaño de palabra utilizado es de 64 bits. Para obtener el máximo provecho de la palabra del procesador, las aplicaciones deben diseñarse para ese tamaño de palabra (word). Como antiguamente las arquitecturas fueron de 16 y 32 bits, las arquitecturas deben ser tener compatibilidad hacia atrás y soportar la ejecución de aplicaciones de 32 bits, por ejemplo. \n",
    "\n",
    "Por ese motivo, para no volverse locos y poderse diferenciar, las palabras de 16 bits se denominan WORD, las de 32 bits, DWORD y las de 32 bits, QWORD. Además, se permite trabajar con fracciones de palabras: 1/2 WORD, o lo que es lo mismo, 8 bits.\n",
    "\n",
    "🤔 Para nosotros, la unidad mínima de información será el byte, estructura formada por 8 bits.\n",
    "\n",
    "### 1.2.4 Sistemas de numeración Decimal, Binario y Hexadecimal\n",
    "\n",
    "El sistema de numeración que utilizamos es el decimal. Se trata de un sistema de numeración posicional en el que las cantidades se representan utilizando como base aritmética el número 10. El conjunto de símbolos utilizado (sistema de numeración arábiga) se compone de diez cifras comprendidas entre el 0 al 9. Fuente: https://es.wikipedia.org/wiki/Sistema_de_numeraci%C3%B3n_decimal\n",
    "\n",
    "$$S = \\{0, 1, 2, 3, 4, 5, 6, 7, 8, 9\\}$$\n",
    "\n",
    "Este sistema está muy bien en el contexto fuera del ordenador, pero como se ha comentado, dentro de él toda la información qyue se proecesa se representa mediante 1s y 0s siguiente el **sistema de numeración binaria**. El conjunto de símbolos porlo tanto, será:\n",
    "\n",
    "$$S = \\{0, 1\\}$$\n",
    "\n",
    "Por este motivo, cuando en programación Python se desea trabajar con el número 12, lo escribiremos como nosotros lo concocemos, abstrayéndonos de la complejidad interna del sistema binario manejado por los ordenadores. \n",
    "\n",
    "```\n",
    "12\n",
    "```\n",
    "\n",
    "Este número en decimal lo tomará el compilador Python y lo convertirá a código máquina para almacenarlo como un número binario:\n",
    "\n",
    "```\n",
    "1100\n",
    "```"
   ]
  },
  {
   "cell_type": "markdown",
   "id": "4bc69d53",
   "metadata": {},
   "source": [
    "#### Conversión decimal a binaria\n",
    "\n",
    "La forma de converitir un número decimal (base 10) a uno en binario (base 2) es dividiendo por la base de forma iterativa, quedándonos con los resíduos. Convirtamos el número decimal 12 a binario. \n",
    "```\n",
    "12  |  2\n",
    " 0  --------\n",
    " -      6  |  2\n",
    "        0  --------\n",
    "        -     3  |  2\n",
    "              1   --------\n",
    "              -     1  \n",
    "                    -\n",
    "```\n",
    "El número binario resultante será el último cociente obtenido junto con la sucesión de los residuos obtenidos de forma inversa (de abajo a arriba): 1100.\n",
    "\n",
    "Como vamos a manejar números en distinta base, es recomendable especificarlo mediante subíndices:\n",
    "el número $12_{10}$ es equivalente a $1100_2$. \n",
    "\n",
    "#### Conversión binaria a decimal\n",
    "\n",
    "El paso de binario a decimal se obtiene aplicando el sumatorio de la multiplicación de cada dígito por $2^n$, siendo n el peso de cada uno de ellos, y aplicando el sumatorio de todo ello. \n",
    "\n",
    "```\n",
    "Número binario (a):   1   1   0   0\n",
    "                      -   -   -   -\n",
    "Peso (i):             3   2   1   0\n",
    "```\n",
    "Resultado:  $(1100)_2 = (1*2^3) + (1*2^2) + (0*2^1) + (0*2^0) = 8 + 4 + 0 + 0 = 12_{10}$\n",
    "\n",
    "\n",
    "$$ \\sum_{i=0}^{n-1} a_i 2^i $$\n",
    "\n",
    "**Escribiendo código Python dentro de un Notebook**\n",
    "\n",
    "🤔 Sin saber nada de Python, vamos a ver una forma muy sencilla de programar dentro de un Notebook. La siguiente celda representa instrucciones en un lenguaje de alto nivel (Python), las cuales nos permiten convertir un número decimal (el número 12) en binario.\n",
    "\n",
    "Como puedes ver en el resultado, $12_{10}$ equivale al número $1100_{2}$.\n"
   ]
  },
  {
   "cell_type": "code",
   "execution_count": 5,
   "id": "fa2271fe",
   "metadata": {},
   "outputs": [
    {
     "data": {
      "text/plain": [
       "'101'"
      ]
     },
     "execution_count": 5,
     "metadata": {},
     "output_type": "execute_result"
    }
   ],
   "source": [
    "numero = 5\n",
    "\n",
    "bin(numero)[2:]     # Olvídate de esta línea, ni la leas... Quédate con la anterior y la siguiente."
   ]
  },
  {
   "cell_type": "markdown",
   "id": "8ba29dc3",
   "metadata": {},
   "source": [
    "El siguiente ejemplo de código, realiza la operación inversa convirtiendo $1100_{2}$ a $12_{10}$."
   ]
  },
  {
   "cell_type": "code",
   "execution_count": 14,
   "id": "fcc32d7c",
   "metadata": {},
   "outputs": [
    {
     "data": {
      "text/plain": [
       "12"
      ]
     },
     "execution_count": 14,
     "metadata": {},
     "output_type": "execute_result"
    }
   ],
   "source": [
    "numero = \"1100\"\n",
    "\n",
    "int(numero, 2)    # Olvídate de esta línea, ni la leas... Quédate con la anterior y la siguiente.\n"
   ]
  },
  {
   "cell_type": "markdown",
   "id": "35159938",
   "metadata": {},
   "source": [
    "**¿No entiendes nada de lo que has visto?**\n",
    "\n",
    "Normal, no te preocupes. Todavía no hemos empezado a programar. Solo es un ejemplo de como un Notebook puede incorporar también código Python.\n",
    "\n",
    "Además, intenta fijarte solo en lo que entiendes, el **número 12**. Si cambias el número 12 o el 1100 por otro número... "
   ]
  },
  {
   "cell_type": "markdown",
   "id": "5802673e",
   "metadata": {},
   "source": [
    "## 🤓\n",
    "**Ahora te toca a ti**\n",
    "\n",
    "¿Te animas a escribir el código (copiando y pegando del ejemplo anterior) que permite convertir el número decimal 256 a binario?"
   ]
  },
  {
   "cell_type": "code",
   "execution_count": 12,
   "id": "7f3c8872",
   "metadata": {},
   "outputs": [],
   "source": []
  },
  {
   "cell_type": "markdown",
   "id": "75e2a9c6",
   "metadata": {},
   "source": [
    "¿Y cuál es el número decimal del número binario 1010?"
   ]
  },
  {
   "cell_type": "code",
   "execution_count": null,
   "id": "31b40443",
   "metadata": {},
   "outputs": [],
   "source": []
  },
  {
   "cell_type": "markdown",
   "id": "8eb70fe7",
   "metadata": {},
   "source": [
    "**¿Cuántos bits necesitaría para almacenar el número...?**\n",
    "\n",
    "🤔 Sin profundizar muchos más (ya lo abordaremos más adelante), para representar solo los números naturales (sin signo), con n bits se podría alcanzar el número $2^{n}-1$.\n",
    "\n",
    "Con 3 bits, teóricamente, solo podría llegar hasta el número $7_{10}$: $2^{3}-1$. \n",
    "\n",
    "El rango de números a representar con tres bits sería $ N =\\{0 ,1, 2, 3, 4, 5, 6, 7\\}$\n",
    "\n",
    "Desde el $000_2$ ($0_{10}$), hasta el $111_2$ ($7_{10}$).\n",
    "\n",
    "**¿Podría almacenar en 8 bits el número 260?**\n",
    "\n",
    "$2^{8} - 1 = 255$\n",
    "\n",
    "$log_2(260) = 8.022367813028454$ \n",
    "\n",
    "La respuesta es no, necesitaría al menos 9 bits. Redondeo por exceso del logaritmo en base 2 de 260.\n",
    "\n",
    "$2^{9} - 1 = 511$"
   ]
  },
  {
   "cell_type": "markdown",
   "id": "98496d89",
   "metadata": {},
   "source": [
    "**¿Sigues utilizando la calculadora de Windows o Mac para realizar estos cálculos?**\n",
    "\n",
    "¿Y si tu lenguaje de programación fuese la mejor calculadora que nunca has conocido?\n",
    "\n",
    "En la siguiente celda se están sumando dos números:"
   ]
  },
  {
   "cell_type": "code",
   "execution_count": 6,
   "id": "30dfbeb6",
   "metadata": {},
   "outputs": [
    {
     "data": {
      "text/plain": [
       "91"
      ]
     },
     "execution_count": 6,
     "metadata": {},
     "output_type": "execute_result"
    }
   ],
   "source": [
    "2 + 89"
   ]
  },
  {
   "cell_type": "markdown",
   "id": "0b02c326",
   "metadata": {},
   "source": [
    "En la siguiente celda se están multiplicando dos números:"
   ]
  },
  {
   "cell_type": "code",
   "execution_count": 7,
   "id": "31b3d5d9",
   "metadata": {},
   "outputs": [
    {
     "data": {
      "text/plain": [
       "1067148"
      ]
     },
     "execution_count": 7,
     "metadata": {},
     "output_type": "execute_result"
    }
   ],
   "source": [
    "123 * 8676"
   ]
  },
  {
   "cell_type": "markdown",
   "id": "28b6c6fa",
   "metadata": {},
   "source": [
    "En la siguiente y última se calculando 2 elevado a 8: $2^{8}$. Como es muy dificil poner el superíndice, se utilizan los dos asteriscos."
   ]
  },
  {
   "cell_type": "code",
   "execution_count": 8,
   "id": "53046ead",
   "metadata": {},
   "outputs": [
    {
     "data": {
      "text/plain": [
       "1024"
      ]
     },
     "execution_count": 8,
     "metadata": {},
     "output_type": "execute_result"
    }
   ],
   "source": [
    "2 ** 10"
   ]
  },
  {
   "cell_type": "markdown",
   "id": "c307218c",
   "metadata": {},
   "source": [
    "## 🤓\n",
    "**Ahora te toca a ti**\n",
    "\n",
    "Intenta realizar las siguientes operaciones mediante código fuente Python en las siguientes celdas:\n",
    "- ¿Cuánto es 1024 x 1024?"
   ]
  },
  {
   "cell_type": "code",
   "execution_count": 9,
   "id": "801b59ce",
   "metadata": {},
   "outputs": [
    {
     "data": {
      "text/plain": [
       "1048576"
      ]
     },
     "execution_count": 9,
     "metadata": {},
     "output_type": "execute_result"
    }
   ],
   "source": [
    "1024 * 1024"
   ]
  },
  {
   "cell_type": "markdown",
   "id": "15c9e60d",
   "metadata": {},
   "source": [
    "- ¿Y cuánto es $2^{10}$?"
   ]
  },
  {
   "cell_type": "code",
   "execution_count": 10,
   "id": "804785bd",
   "metadata": {},
   "outputs": [
    {
     "data": {
      "text/plain": [
       "1024"
      ]
     },
     "execution_count": 10,
     "metadata": {},
     "output_type": "execute_result"
    }
   ],
   "source": [
    "2 ** 10"
   ]
  },
  {
   "cell_type": "markdown",
   "id": "0ca9df32",
   "metadata": {},
   "source": [
    "- ¿Y cuánto es $2^{20}$?"
   ]
  },
  {
   "cell_type": "code",
   "execution_count": 11,
   "id": "8ec7d878",
   "metadata": {},
   "outputs": [
    {
     "data": {
      "text/plain": [
       "1073741824"
      ]
     },
     "execution_count": 11,
     "metadata": {},
     "output_type": "execute_result"
    }
   ],
   "source": [
    "2 ** 30"
   ]
  },
  {
   "cell_type": "markdown",
   "id": "46929793",
   "metadata": {},
   "source": [
    "#### Conversión decimal a hexadecimal\n",
    "\n",
    "Aunque el sistema binario es el utilizado por los ordenadores, otro muy utilizado que permite ampliar su comprensión es el sistema hexadecimal o en base 16. ¿Y por qué complicarse con los sistemas de numeración? Ahora lo entenderás...\n",
    "\n",
    "A los humanos nos cuesta mucho manejar números binarios. Si quisiésemos hacer conversiones rápidamente de uno a otro para ganar interpretabilidad, sería mucho peor... \n",
    "Veámoslo con un ejemplo: ¿que número se esconde detrás de este byte 10101001? Nos cuesta hasta saber el número de dígitos que hay, ya que en binario no existen los separadores.\n",
    "\n",
    "Aquí es cuando la representación hexadecimal nos puede ayudar.\n",
    "\n",
    "El sistema de numeración hexadecimal representa los números utilizando como base aritmética el número 16. Los símbolos utilizados están coprendidos entre el 0 al 9 y apartir de ahí se utilizarán las primeras letras del alfabeto, siempre en mayúsculas. \n",
    "\n",
    "\n",
    "$$S = \\{0, 1, 2, 3, 4, 5, 6, 7, 8, 9, A, B, C, D, E, F\\}$$\n",
    "\n",
    "Como puedes ver, la A se correspondería con el 10, la B con el 11, ... así hasta llegar al último símbolo, el F, que sería el 15. Del 0 al 15 hay 16 símbolos, base 16.\n",
    "\n",
    "El motivo de utilizar 16 símbolos es porque permite representar fácilmente un byte (8 bits). Como un byte puede representar $2^8$ valores, se podría decir que $2^8 = 2^4 · 2^4 = 16 · 16$. Dos dígitos hexadecimales se corresponden exactamente con un byte.\n",
    "\n",
    "Partiendo del ejemplo inicial que planteábamos. Qué número se esconde detrás del número  ...\n",
    "\n",
    "```\n",
    "10101001 --> 1010 1001 --> 10 9 --> A 9\n",
    "```\n",
    "...nos resultará más sencillo hablar y convertir el número hexadecimal **A9** que hacerlo del número binario **10101001**.\n",
    "\n",
    "Para la conversión a decimal, se empleará el mismo método utilizado en binario, salvo que cambiaremos la base de 2 a 16.\n",
    "\n",
    "\n",
    "```\n",
    "Número binario (a):   A   9\n",
    "                      -   -\n",
    "Peso (i):             1   0\n",
    "```\n",
    "Resultado:  $ (A9)_{16} = (10 × 16^1) + (9 × 16^0) = 160 + 9 = (169)_{10}$\n",
    "\n",
    "\n",
    "$$ \\sum_{i=0}^{n-1} a_i 16^i $$\n",
    "\n",
    "\n",
    "Fuente: https://es.wikipedia.org/wiki/Sistema_hexadecimal\n",
    "\n"
   ]
  },
  {
   "cell_type": "markdown",
   "id": "b10df422",
   "metadata": {},
   "source": [
    "#### ¿Puedo escribir números binarios y hexadecimales en Python?\n",
    "\n",
    "Aunque lo normal es trabajar con números decimales en la programación (el compilador de Python hará la conversión futura de todo el código a binario, no sólo de los números), en muchas ocasiones vamos a querer manejar números binarios o hexadecimales en nuestro programa.\n",
    "\n",
    "Antes hemos utilizado la siguiente notación para representar un numero en los diferentes sistemas, para que nos resulte más sencillo.\n",
    "\n",
    "- Hexadecimal: **$A9_{16}$**\n",
    "- Decimal: **$35_{10}$**\n",
    "- Binario: **$101_{2}$**\n",
    "\n",
    "Es importante seguir una simbología clara, porque el día de mañana nos podremos encontrar con el número 11, por ejemplo, y no sabremos si se trata de un 11 en decimal, un 17 (valor decimal) en hexadecimal o un 3 (valor decimal) en binario. \n",
    "\n",
    "En programación nos ocurrirá lo mismo. En este caso la simbología a utilizar en nuestros porgramas Python será especicando un prefijo especial de dos caracteres (0x ó 0b) cuando no sean números del sistema decimal:\n",
    " \n",
    "- Hexadecimal: **0xA9**\n",
    "- Decimal: **35**\n",
    "- Binario: **0b101**\n",
    "\n",
    "🤔 Probemos a representar números de distintos sistemas mediante código fuente Python..."
   ]
  },
  {
   "cell_type": "code",
   "execution_count": 44,
   "id": "3cde0feb",
   "metadata": {},
   "outputs": [
    {
     "data": {
      "text/plain": [
       "169"
      ]
     },
     "execution_count": 44,
     "metadata": {},
     "output_type": "execute_result"
    }
   ],
   "source": [
    "0xA9"
   ]
  },
  {
   "cell_type": "code",
   "execution_count": 37,
   "id": "b9961ac6",
   "metadata": {},
   "outputs": [
    {
     "data": {
      "text/plain": [
       "35"
      ]
     },
     "execution_count": 37,
     "metadata": {},
     "output_type": "execute_result"
    }
   ],
   "source": [
    "35"
   ]
  },
  {
   "cell_type": "code",
   "execution_count": 38,
   "id": "c4db36f8",
   "metadata": {},
   "outputs": [
    {
     "data": {
      "text/plain": [
       "5"
      ]
     },
     "execution_count": 38,
     "metadata": {},
     "output_type": "execute_result"
    }
   ],
   "source": [
    "0b101"
   ]
  },
  {
   "cell_type": "markdown",
   "id": "46ae7e64",
   "metadata": {},
   "source": [
    "## 🤓\n",
    "**Ahora te toca a ti**\n",
    "\n",
    "Expresa en Python los siguientes números en cada uno de sus sistemas especificados:\n",
    "- $ 167_{16}$"
   ]
  },
  {
   "cell_type": "code",
   "execution_count": null,
   "id": "90eeea4b",
   "metadata": {},
   "outputs": [],
   "source": []
  },
  {
   "cell_type": "markdown",
   "id": "935601c4",
   "metadata": {},
   "source": [
    "- $ 1010_{2}$"
   ]
  },
  {
   "cell_type": "code",
   "execution_count": null,
   "id": "632acb54",
   "metadata": {},
   "outputs": [],
   "source": []
  },
  {
   "cell_type": "markdown",
   "id": "c9c5c3ac",
   "metadata": {},
   "source": [
    "#### ¿Cómo opera internamente un ordenador?\n",
    "\n",
    "Ya sabemo que al igual que nuestro sistema de numeración es el decimal, el de los ordenadores es el binario. Ahora, veamos cómo realizaría operaciones aritméticas un ordenador.\n",
    "\n",
    "Cuando nosotros sumamos 17 + 24 realizamos el siguiente proceso:\n",
    "```\n",
    "    1   7\n",
    "    2   4\n",
    "   -------\n",
    "        1\n",
    "```\n",
    "El resultado de la suma de 4 + 7 es 11, por lo tanto, nos llevamos 1.\n",
    "\n",
    "```\n",
    "    \n",
    "  1+1   7\n",
    "    2   4\n",
    "   -------\n",
    "    4   1\n",
    "```\n",
    "El resultado de la suma es 41. \n",
    "\n",
    "Y como no me fío de este resultado :) me lo llevaré a Python:"
   ]
  },
  {
   "cell_type": "code",
   "execution_count": 1,
   "id": "68f21f53",
   "metadata": {},
   "outputs": [
    {
     "data": {
      "text/plain": [
       "41"
      ]
     },
     "execution_count": 1,
     "metadata": {},
     "output_type": "execute_result"
    }
   ],
   "source": [
    "17 + 24"
   ]
  },
  {
   "cell_type": "markdown",
   "id": "73889fa9",
   "metadata": {},
   "source": [
    "Bien, ¿y como sumará un ordenador?\n",
    "\n",
    "Supongamos que queremos sumar 10$_2$ + 11$_2$. Lo que en decimal sería equvalente a decir, 2$_{10}$ + 3$_{10}$.\n",
    "\n",
    "Al igual que hemos hecho en decimal, procedemos en binario:\n",
    "\n",
    "```\n",
    "      1   0\n",
    "      1   1\n",
    "     -------\n",
    "          1\n",
    "```\n",
    "El resultado de la suma de 0 + 1 es 1. Seguimos...\n",
    "\n",
    "```\n",
    "      1   0\n",
    "      1   1\n",
    "     -------\n",
    "      4   1\n",
    "```\n",
    "El resultado de la suma es 1 + 1 es 10, por lo tanto, nos llevamos 1. Lo mismo que hemos hecho antes. \n",
    "```\n",
    " 1+0  1   0\n",
    "      1   1\n",
    " ------------\n",
    "  1   0   1\n",
    "```\n",
    "El resultado de la suma es 101$_2$, que en decimal, como ya suponíamos será 5$_{10}$.\n",
    "\n",
    "Y como no me vuelvo a fiar de este resultado :) me lo vuelvo a llevar a Python:"
   ]
  },
  {
   "cell_type": "code",
   "execution_count": 2,
   "id": "15b0f8d8",
   "metadata": {},
   "outputs": [
    {
     "data": {
      "text/plain": [
       "5"
      ]
     },
     "execution_count": 2,
     "metadata": {},
     "output_type": "execute_result"
    }
   ],
   "source": [
    "0b10 + 0b11"
   ]
  },
  {
   "cell_type": "markdown",
   "id": "c29254f9",
   "metadata": {},
   "source": [
    "El resultado es 5, que en binario es..."
   ]
  },
  {
   "cell_type": "code",
   "execution_count": 4,
   "id": "1657b362",
   "metadata": {},
   "outputs": [
    {
     "data": {
      "text/plain": [
       "'0b101'"
      ]
     },
     "execution_count": 4,
     "metadata": {},
     "output_type": "execute_result"
    }
   ],
   "source": [
    "bin(5)"
   ]
  },
  {
   "cell_type": "markdown",
   "id": "7c48412c",
   "metadata": {},
   "source": [
    "## 1.3 Lenguajes y paradigmas de programación 🏫\n",
    "\n",
    "Resumiendo brevemente lo anterior, todo lo que ocurre a nivel hardware está relacionado con el mundo binario sobre la presencia o ausencia de corriente eléctrica. Estos 1s y 0s nos permiten almacenar datos y dar instrucciones. El sistema operativo es el elemento software que interactúa con el hardware del ordenador (RAM, disco duro, tarjeta gráfica, etc.). Además, el sistema operativo permite ofrecer servicios a otro software de más alto nivel para que utilicen estos recuros hardware, entre los cuales se encontraba el compilador que nos permite escribir código Python a código máquina.\n",
    "\n",
    "Si no exitiesen compiladores, todo los usuarios de Windows, por ejemplo, programarían en el mismo lenguaje, el que ofreciera el sistema operativo. El hecho de que existan los compiladores permite que...\n",
    "- un lenguaje se puede utilizar en distintos sistemas operativos.\n",
    "- existan muchos lenguajes de programación distintos.\n",
    "\n",
    "### Lenguajes de programación\n",
    "\n",
    "Existen una gran variedad de lenguajes de programación, según su próposito final (aplicaciones gráficas, app móviles, web, rendimiento, paralelismo, ...).\n",
    "\n",
    "Algunos de los más conocidos:\n",
    "- Java\n",
    "- Python\n",
    "- C/C++ \n",
    "- C#\n",
    "- Kotlin\n",
    "- Swift\n",
    "- PHP\n",
    "- Javascript\n",
    "- HTML\n",
    "- R\n",
    "\n",
    "Un ejemplo de código fuente (\"Hello World!) de algunos de ellos son:\n",
    "\n",
    "**Java**\n",
    "```java\n",
    "class HelloWorld {\n",
    "  static public void main( String args[] ) {\n",
    "    System.out.println( \"Hello World!\" );\n",
    "  }\n",
    "```\n",
    "**Python**\n",
    "\n",
    "```python\n",
    "print(\"Hello World\")\n",
    "```\n",
    "**C++**\n",
    "```c++\n",
    "#include <iostream.h>\n",
    "main()\n",
    "{\n",
    "    cout << \"Hello World!\" << endl;\n",
    "    return 0;\n",
    "}\n",
    "```\n",
    "\n",
    "🤔 Incluso te puedes encontrar algunos lenguajes de progrmación muy divertidos:\n",
    "\n",
    "**Ecstatic**\n",
    "```\n",
    "!!!!!!!!!!!!!!!!!!!!!!!!!!!!!!!!!!!!!!!!!!!!!!!!!!!!!!!!!!!!!!!!!!!!!!!!!!!!!!!!!!!!!!!!!!!!!!!!!!!!!!!!!!!!!!\n",
    "```\n",
    "\n",
    "**Emojicode**\n",
    "```\n",
    "🐇 🐼 🍇\n",
    "  🐇🐖 🏁 ➡️ 🚂 🍇\n",
    "    😀 🔤Hello world!🔤\n",
    "    🍎 0\n",
    "  🍉\n",
    "🍉\n",
    "```\n",
    "\n",
    "**Ook**\n",
    "```\n",
    "Ook. Ook? Ook. Ook. Ook. Ook. Ook. Ook. Ook. Ook. Ook. Ook. Ook. Ook. Ook. Ook.\n",
    "Ook. Ook. Ook. Ook. Ook! Ook? Ook? Ook. Ook. Ook. Ook. Ook. Ook. Ook. Ook. Ook.\n",
    "Ook. Ook. Ook. Ook. Ook. Ook. Ook. Ook. Ook. Ook? Ook! Ook! Ook? Ook! Ook? Ook.\n",
    "Ook! Ook. Ook. Ook? Ook. Ook. Ook. Ook. Ook. Ook. Ook. Ook. Ook. Ook. Ook. Ook.\n",
    "Ook. Ook. Ook! Ook? Ook? Ook. Ook. Ook. Ook. Ook. Ook. Ook. Ook. Ook. Ook. Ook?\n",
    "Ook! Ook! Ook? Ook! Ook? Ook. Ook. Ook. Ook! Ook. Ook. Ook. Ook. Ook. Ook. Ook.\n",
    "Ook. Ook. Ook. Ook. Ook. Ook. Ook. Ook. Ook! Ook. Ook! Ook. Ook. Ook. Ook. Ook.\n",
    "Ook. Ook. Ook! Ook. Ook. Ook? Ook. Ook? Ook. Ook? Ook. Ook. Ook. Ook. Ook. Ook.\n",
    "Ook. Ook. Ook. Ook. Ook. Ook. Ook. Ook. Ook. Ook. Ook! Ook? Ook? Ook. Ook. Ook.\n",
    "Ook. Ook. Ook. Ook. Ook. Ook. Ook. Ook? Ook! Ook! Ook? Ook! Ook? Ook. Ook! Ook.\n",
    "Ook. Ook? Ook. Ook? Ook. Ook? Ook. Ook. Ook. Ook. Ook. Ook. Ook. Ook. Ook. Ook.\n",
    "Ook. Ook. Ook. Ook. Ook. Ook. Ook. Ook. Ook. Ook. Ook! Ook? Ook? Ook. Ook. Ook.\n",
    "Ook. Ook. Ook. Ook. Ook. Ook. Ook. Ook. Ook. Ook. Ook. Ook. Ook. Ook. Ook. Ook.\n",
    "Ook. Ook? Ook! Ook! Ook? Ook! Ook? Ook. Ook! Ook! Ook! Ook! Ook! Ook! Ook! Ook.\n",
    "Ook? Ook. Ook? Ook. Ook? Ook. Ook? Ook. Ook! Ook. Ook. Ook. Ook. Ook. Ook. Ook.\n",
    "Ook! Ook. Ook! Ook! Ook! Ook! Ook! Ook! Ook! Ook! Ook! Ook! Ook! Ook! Ook! Ook.\n",
    "Ook! Ook! Ook! Ook! Ook! Ook! Ook! Ook! Ook! Ook! Ook! Ook! Ook! Ook! Ook! Ook!\n",
    "Ook! Ook. Ook. Ook? Ook. Ook? Ook. Ook. Ook! Ook. Ook! Ook? Ook! Ook! Ook? Ook!\n",
    "Ook. Ook. Ook. Ook. Ook. Ook. Ook. Ook. Ook. Ook. Ook. Ook. Ook. Ook. Ook. Ook.\n",
    "Ook. Ook. Ook. Ook. Ook! Ook.\n",
    "```\n",
    "\n",
    "**Brainfuck**\n",
    "```\n",
    ">++++++++[<+++++++++>-]<.>++++[<+++++++>-]<+.+++++++..+++.>>++++++[<+++++++>-]<+\n",
    "+.------------.>++++++[<+++++++++>-]<+.<.+++.------.--------.>>>++++[<++++++++>-\n",
    "]<+.\n",
    "```\n",
    "\n",
    "Fuente: http://helloworldcollection.de/\n",
    "\n",
    "\n",
    "Fuente: https://es.wikipedia.org/wiki/Lenguaje_de_programaci%C3%B3n\n",
    "\n",
    "### Paradigmas\n",
    "\n",
    "Dado que en tercero de grado existirá una asignatura exclusiva a esta materia, realizaremos solo una introducción.\n",
    "\n",
    "Un paradigma de programación define el método para describir la forma de realizar las tareas en un lenguaje de programación.\n",
    "\n",
    "Existen muchas clasificaciones respecto a los paradigmas que siguen los diferentes tipos de lenguaje de programación: imperativos, declarativos, funcionales, orientados a objetos, orientados a eventos, reactivos, etc. Lo normal es que un lenguaje de programación cumpla con más de un paradigma.\n",
    "\n",
    "Nosotros nos centraremos en la **paradigma de programación imperativa** que es el que siguen la mayor parte de los lenguajes. \n",
    "\n",
    "Básicamente, se trata de indicar la secuencia en la que se van a realizar las instrucciones de una forma ordenada. Un ejemplo de la programación impertiva es una receta de cocina. Se deben ejecutar las instrucciones una a una y en el orden establecido para obtener el plato deseado.\n",
    "\n",
    "\n",
    "## 1.4 Introducción a la IA 🏫\n",
    "\n",
    "Sin duda, hablar de Inteligencia Artificial es trending topic. Pero, ¿qué es la IA?\n",
    "\n",
    "Según la Wikipedia, \"la Inteligencia Artificial es ... la disciplina que intenta replicar y desarrollar la inteligencia y sus procesos implícitos **a través de computadoras**.\". Fuente: https://es.wikipedia.org/wiki/Inteligencia_artificial\n",
    " \n",
    "A través de grandes volúmenes de datos, técnicas de Machine Learning y Deep Learning y de la programación se intenta replicar el comportamiento del cerebro humano mediante el desarrollo de programas.\n",
    "\n",
    "La IA se aplica a distintos sectores como las finanzas, educación, medicina, industria, etc.  \n",
    "\n",
    "Por este motivo, la programación juega un papel imprescindible en el desarrollo de la la IA.\n",
    "\n",
    "\n",
    "## Bibliografía\n",
    "Crash Course. Computer Science: https://www.youtube.com/playlist?list=PL8dPuuaLjXtNlUrzyH5r6jN9ulIgZBpdo "
   ]
  },
  {
   "cell_type": "code",
   "execution_count": null,
   "id": "5bcc41be",
   "metadata": {},
   "outputs": [],
   "source": []
  }
 ],
 "metadata": {
  "kernelspec": {
   "display_name": "Python 3 (ipykernel)",
   "language": "python",
   "name": "python3"
  },
  "language_info": {
   "codemirror_mode": {
    "name": "ipython",
    "version": 3
   },
   "file_extension": ".py",
   "mimetype": "text/x-python",
   "name": "python",
   "nbconvert_exporter": "python",
   "pygments_lexer": "ipython3",
   "version": "3.9.12"
  },
  "vscode": {
   "interpreter": {
    "hash": "03f549537fa19b43efbf5aa4d6467b94388b966112c368cc66a2484d89a4a6bd"
   }
  }
 },
 "nbformat": 4,
 "nbformat_minor": 5
}
