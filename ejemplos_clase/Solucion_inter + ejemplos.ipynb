{
 "cells": [
  {
   "cell_type": "code",
   "execution_count": 1,
   "metadata": {},
   "outputs": [
    {
     "name": "stdout",
     "output_type": "stream",
     "text": [
      "Cadena de entrada: adcdabbdbcdbdc\n"
     ]
    }
   ],
   "source": []
  },
  {
   "cell_type": "markdown",
   "metadata": {},
   "source": []
  },
  {
   "cell_type": "code",
   "execution_count": 15,
   "metadata": {},
   "outputs": [
    {
     "name": "stdout",
     "output_type": "stream",
     "text": [
      "2534\n"
     ]
    }
   ],
   "source": []
  },
  {
   "cell_type": "code",
   "execution_count": 50,
   "metadata": {},
   "outputs": [
    {
     "name": "stdout",
     "output_type": "stream",
     "text": [
      "Cadena de entrada: Hola esto es una cadena y van a contarlas letras\n",
      "a;9,\n",
      "a;9, ;9,\n",
      "a;9, ;9,e;4,\n",
      "a;9, ;9,e;4,s;4,\n",
      "a;9, ;9,e;4,s;4,n;4,\n",
      "a;9, ;9,e;4,s;4,n;4,o;3,\n",
      "a;9, ;9,e;4,s;4,n;4,o;3,l;3,\n",
      "a;9, ;9,e;4,s;4,n;4,o;3,l;3,t;3,\n",
      "a;9, ;9,e;4,s;4,n;4,o;3,l;3,t;3,c;2,\n",
      "a;9, ;9,e;4,s;4,n;4,o;3,l;3,t;3,c;2,r;2,\n",
      "a;9, ;9,e;4,s;4,n;4,o;3,l;3,t;3,c;2,r;2,H;1,\n",
      "a;9, ;9,e;4,s;4,n;4,o;3,l;3,t;3,c;2,r;2,H;1,u;1,\n",
      "a;9, ;9,e;4,s;4,n;4,o;3,l;3,t;3,c;2,r;2,H;1,u;1,d;1,\n",
      "a;9, ;9,e;4,s;4,n;4,o;3,l;3,t;3,c;2,r;2,H;1,u;1,d;1,y;1,\n",
      "a;9, ;9,e;4,s;4,n;4,o;3,l;3,t;3,c;2,r;2,H;1,u;1,d;1,y;1,v;1,\n",
      "a;9, ;9,e;4,s;4,n;4,o;3,l;3,t;3,c;2,r;2,H;1,u;1,d;1,y;1,v;1,\n"
     ]
    }
   ],
   "source": [
    "caracteres_unicos = \"adcbz\"\n",
    "frecuencias = \"\"\n",
    "cadena =  \"Hola esto es una cadena y van a contarlas letras\"\n",
    "caracteres_unicos = \"\"\n",
    "frecuencia = \"\"\n",
    "print(\"Cadena de entrada:\", cadena)\n",
    "i = 0\n",
    "while i < len(cadena):\n",
    "    letra = cadena[i]\n",
    "    j = 0\n",
    "    encontrado = False\n",
    "    while j < len(caracteres_unicos) and not encontrado:\n",
    "        \n",
    "        if caracteres_unicos[j] == letra:\n",
    "            encontrado = True\n",
    "        j += 1\n",
    "    if not encontrado:\n",
    "        caracteres_unicos += letra # Agregamos el caracter único\n",
    "    i+= 1\n",
    "indice1 = 0\n",
    "while indice1 < len(caracteres_unicos):\n",
    "    indice2 = 0\n",
    "    contador = 0\n",
    "    while indice2<len(cadena):\n",
    "        if caracteres_unicos[indice1] == cadena[indice2]:\n",
    "            contador += 1\n",
    "        indice2 += 1\n",
    "    frecuencias += str(contador)\n",
    "    indice1 += 1\n",
    "salida = \"\"\n",
    "desordenado = True\n",
    "while desordenado:\n",
    "    indice = 0\n",
    "    maximo = 0\n",
    "    indice_max = 0\n",
    "    while indice < len(frecuencias):\n",
    "        if int(frecuencias[indice]) > maximo:\n",
    "            maximo = int(frecuencias[indice])\n",
    "            indice_max = indice\n",
    "        indice += 1\n",
    "    if maximo == 0:\n",
    "        desordenado = False\n",
    "    else:\n",
    "        salida += caracteres_unicos[indice_max] +\";\"+str(maximo)+\",\"\n",
    "        \n",
    "        frecuencias = frecuencias[:indice_max]+frecuencias[indice_max+1:]\n",
    "        caracteres_unicos = caracteres_unicos[:indice_max] + caracteres_unicos[indice_max+1:]\n",
    "\n",
    "\n",
    "print(salida)\n"
   ]
  },
  {
   "cell_type": "code",
   "execution_count": 1,
   "metadata": {},
   "outputs": [
    {
     "name": "stdout",
     "output_type": "stream",
     "text": [
      "Introduce el numero de alumnos de la clase:3\n",
      "------------------------------\n",
      "Introduce la nota del alumno 1: 5\n",
      "------------------------------\n",
      "Introduce la nota del alumno 2: 6\n",
      "------------------------------\n",
      "Introduce la nota del alumno 3: 4\n",
      "[5.0, 6.0, 4.0]\n"
     ]
    }
   ],
   "source": [
    "num = int(input(\"Introduce el numero de alumnos de la clase:\"))\n",
    "notas = []\n",
    "alumnos = []\n",
    "for i in range(num):\n",
    "    print(\"-\"*30)\n",
    "    alumno = input(\"Introduce el nombre del alumno\")\n",
    "    alumnos.append(alumno)\n",
    "    \n",
    "    nota = float(input(f\"Introduce la nota del alumno {i+1}: \"))\n",
    "    while nota < 0:\n",
    "        nota = float(input(f\"Introduce la nota del alumno {i+1}: \"))\n",
    "        \n",
    "    notas.append(nota)\n",
    "print(notas)"
   ]
  },
  {
   "cell_type": "code",
   "execution_count": 4,
   "metadata": {},
   "outputs": [
    {
     "name": "stdout",
     "output_type": "stream",
     "text": [
      "6\n",
      "3\n",
      "1\n"
     ]
    }
   ],
   "source": [
    "notas = [1,2,3]\n",
    "print(sum(notas))\n",
    "print(max(notas))\n",
    "print(min(notas))"
   ]
  },
  {
   "cell_type": "code",
   "execution_count": null,
   "metadata": {},
   "outputs": [],
   "source": [
    "notas = [5,6,10,5]\n",
    "alumnos = [\"Pepe\",\"Daniel\",\"Zinedine\",\"Gravesen\"]\n",
    "\n",
    "menu = \"\"\"\n",
    "1. Calcula la media.\n",
    "2. Nota máxima y alumno con nota máxima\n",
    "4. Salir\"\"\"\n",
    "\n",
    "op = 0\n",
    "while op != 4:\n",
    "    print(menu)\n",
    "    op = int(input(\"Introduce una opción:\"))\n",
    "    while op < 1 or op > 4:\n",
    "        print(\"Error\")\n",
    "        op = int(input(\"Introduce una opción:\"))\n",
    "    if op == 1:\n",
    "        print(\"Vamos a calcular la nota media: \")\n",
    "        suma = 0\n",
    "        for nota in notas:\n",
    "            suma += nota\n",
    "        media = suma / len(notas)\n",
    "        print(f\"La media de la clase es: {media}\")\n",
    "    elif op == 2:\n",
    "        maximo = 0\n",
    "        indice = 0\n",
    "        for nota in notas:\n",
    "            if nota > maximo:\n",
    "                maximo = nota\n",
    "                indice_max = indice\n",
    "            indice += 1\n",
    "        nombre = alumnos[indice_max]\n",
    "        print(f\"El alumno con la nota máxima es {nombre} y ha obtenido un : {maximo}\")\n",
    "    \n",
    "        \n",
    "    \n",
    "        "
   ]
  },
  {
   "cell_type": "code",
   "execution_count": 13,
   "metadata": {},
   "outputs": [
    {
     "name": "stdout",
     "output_type": "stream",
     "text": [
      "Dani\n",
      "Jose\n"
     ]
    }
   ],
   "source": [
    "notas = [5,10,10]\n",
    "maximos = []\n",
    "\n",
    "alumnos = [\"Pepe\",\"Dani\",\"Jose\"]\n",
    "maximo = max(notas)\n",
    "indice_maximo = notas.index(maximo)\n",
    "del notas[indice_maximo]\n",
    "del alumnos[indice_maximo]\n",
    "\n",
    "\n",
    "maximo = max(notas)\n",
    "indice_maximo = notas.index(maximo)\n",
    "\n",
    "print(alumnos[indice_maximo])\n",
    "\n",
    "while maximo  in notas:\n",
    "\n",
    "    maximos.append(alumnos[indice_maximo])\n",
    "\n"
   ]
  },
  {
   "cell_type": "code",
   "execution_count": 19,
   "metadata": {},
   "outputs": [
    {
     "name": "stdout",
     "output_type": "stream",
     "text": [
      "[0, 0, 0]\n",
      "[0, 0, 0]\n",
      "[0, 0, 0]\n",
      "------------------------------\n",
      "[1, 0, 0]\n",
      "[0, 0, 0]\n",
      "[0, 0, 0]\n"
     ]
    }
   ],
   "source": [
    "a = [0,0,0]\n",
    "b = [0,0,0]\n",
    "c = [0,0,0]\n",
    "matriz = [a,b,c]\n",
    "for i in matriz:\n",
    "    print(i)\n",
    "print(\"-\"*30)\n",
    "matriz[0][0] = 1\n",
    "for i in matriz:\n",
    "    print(i)"
   ]
  },
  {
   "cell_type": "code",
   "execution_count": null,
   "metadata": {},
   "outputs": [],
   "source": [
    "num_alu = int(input(\"Introduce el numero de alumnos: \"))\n",
    "num_asig = int(input(\"Introduce el numero de asignaturas: \"))\n",
    "alumnos = []\n",
    "asig = []\n",
    "for i in range(num_alu):\n",
    "    alumno = input(\"Introduce el nombre\")\n",
    "    alumnos.append(alumno)\n",
    "for i in range(num_asig):\n",
    "    asigatura = input(\"Introduce el nombre de la asig\")\n",
    "    asig.append(asignatura)\n",
    "\n",
    "\n",
    "\n",
    "\n",
    "\n"
   ]
  },
  {
   "cell_type": "code",
   "execution_count": 21,
   "metadata": {},
   "outputs": [
    {
     "name": "stdout",
     "output_type": "stream",
     "text": [
      "------------------------------\n",
      "Alumno: Lucas\n",
      "Introduce la nota en la asignatura Python10\n",
      "Introduce la nota en la asignatura Algebra5\n",
      "Introduce la nota en la asignatura Cálculo5\n",
      "------------------------------\n",
      "Alumno: Dani\n",
      "Introduce la nota en la asignatura Python5\n",
      "Introduce la nota en la asignatura Algebra5\n",
      "Introduce la nota en la asignatura Cálculo5\n",
      "------------------------------\n",
      "Alumno: Pepe\n",
      "Introduce la nota en la asignatura Python5\n",
      "Introduce la nota en la asignatura Algebra5\n",
      "Introduce la nota en la asignatura Cálculo5\n",
      "------------------------------\n",
      "Alumno: David\n",
      "Introduce la nota en la asignatura Python5\n",
      "Introduce la nota en la asignatura Algebra5\n",
      "Introduce la nota en la asignatura Cálculo5\n",
      "[10.0, 5.0, 5.0]\n",
      "[5.0, 5.0, 5.0]\n",
      "[5.0, 5.0, 5.0]\n",
      "[5.0, 5.0, 5.0]\n"
     ]
    }
   ],
   "source": [
    "asig = [\"Python\",\"Algebra\",\"Cálculo\"]\n",
    "alumnos = [\"Lucas\",\"Dani\",\"Pepe\"]\n",
    "\n",
    "notas = []\n",
    "\n",
    "\n",
    "for i in range(len(alumnos)):\n",
    "    notas_alu = []\n",
    "    print(\"-\"*30)\n",
    "    print(f\"Alumno: {alumnos[i]}\")\n",
    "    for j in range(len(asig)):\n",
    "        nota = float(input(f\"Introduce la nota en la asignatura {asig[j]}\"))\n",
    "        notas_alu.append(nota)\n",
    "    notas.append(notas_alu)\n",
    "        \n",
    "\n",
    "for i in notas:\n",
    "    print(i)"
   ]
  },
  {
   "cell_type": "code",
   "execution_count": 22,
   "metadata": {},
   "outputs": [
    {
     "name": "stdout",
     "output_type": "stream",
     "text": [
      "[5, 5, 5]\n",
      "[6, 6, 6]\n",
      "[7, 7, 7]\n"
     ]
    }
   ],
   "source": [
    "notas = [[5,5,5],[6,6,6],[7,7,7]]\n",
    "asig = [\"Python\",\"Algebra\",\"Cálculo\"]\n",
    "alumnos = [\"Lucas\",\"Dani\",\"Pepe\"]\n",
    "\n",
    "\n",
    "asignatura = input(\"Introduce la asignatura: \")\n",
    "\n",
    "while asignatura not in asig:\n",
    "    asignatura = input(\"Introduce la asignatura: \")\n",
    "    \n",
    "columna = asig.index(asignatura)\n",
    "\n",
    "suma = 0\n",
    "for notas_alu in notas:\n",
    "    suma += notas_alu[columna]\n",
    "    \n",
    "    \n",
    "for i in range(len(alumnos)):\n",
    "    suma += notas[i][columna]\n",
    "    \n",
    "\n",
    "\n",
    "\n"
   ]
  }
 ],
 "metadata": {
  "kernelspec": {
   "display_name": "Python 3",
   "language": "python",
   "name": "python3"
  },
  "language_info": {
   "codemirror_mode": {
    "name": "ipython",
    "version": 3
   },
   "file_extension": ".py",
   "mimetype": "text/x-python",
   "name": "python",
   "nbconvert_exporter": "python",
   "pygments_lexer": "ipython3",
   "version": "3.8.5"
  }
 },
 "nbformat": 4,
 "nbformat_minor": 4
}
